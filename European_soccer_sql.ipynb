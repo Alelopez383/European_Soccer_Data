{
 "cells": [
  {
   "cell_type": "markdown",
   "id": "3509ab6a",
   "metadata": {},
   "source": [
    "# Introduction to data analysis using SQL \n",
    "\n",
    "KAGGLE: https://www.kaggle.com/code/dimarudov/data-analysis-using-sql"
   ]
  },
  {
   "cell_type": "code",
   "execution_count": 2,
   "id": "8e3984fe",
   "metadata": {},
   "outputs": [],
   "source": [
    "# Import dependencies\n",
    "\n",
    "import numpy as np      # for linear algebra\n",
    "import pandas as pd  # for data processing and reading CSV files\n",
    "import sqlite3 \n",
    "import matplotlib.pyplot as plt  # for graphs   "
   ]
  },
  {
   "cell_type": "markdown",
   "id": "f509dc5f",
   "metadata": {},
   "source": [
    "Always check the correct path of the files/database\n",
    "\n",
    "path = \".../input/ insert path\"\n",
    "\n",
    "database = path + \"name of the database to load\""
   ]
  },
  {
   "cell_type": "code",
   "execution_count": 6,
   "id": "060d7684",
   "metadata": {},
   "outputs": [],
   "source": [
    "# Create the connection to the DB \n",
    "conn = sqlite3.connect(\"database.sqlite\")"
   ]
  },
  {
   "cell_type": "code",
   "execution_count": 8,
   "id": "10780b2d",
   "metadata": {},
   "outputs": [
    {
     "data": {
      "text/html": [
       "<div>\n",
       "<style scoped>\n",
       "    .dataframe tbody tr th:only-of-type {\n",
       "        vertical-align: middle;\n",
       "    }\n",
       "\n",
       "    .dataframe tbody tr th {\n",
       "        vertical-align: top;\n",
       "    }\n",
       "\n",
       "    .dataframe thead th {\n",
       "        text-align: right;\n",
       "    }\n",
       "</style>\n",
       "<table border=\"1\" class=\"dataframe\">\n",
       "  <thead>\n",
       "    <tr style=\"text-align: right;\">\n",
       "      <th></th>\n",
       "      <th>type</th>\n",
       "      <th>name</th>\n",
       "      <th>tbl_name</th>\n",
       "      <th>rootpage</th>\n",
       "      <th>sql</th>\n",
       "    </tr>\n",
       "  </thead>\n",
       "  <tbody>\n",
       "    <tr>\n",
       "      <th>0</th>\n",
       "      <td>table</td>\n",
       "      <td>sqlite_sequence</td>\n",
       "      <td>sqlite_sequence</td>\n",
       "      <td>4</td>\n",
       "      <td>CREATE TABLE sqlite_sequence(name,seq)</td>\n",
       "    </tr>\n",
       "    <tr>\n",
       "      <th>1</th>\n",
       "      <td>table</td>\n",
       "      <td>Player_Attributes</td>\n",
       "      <td>Player_Attributes</td>\n",
       "      <td>11</td>\n",
       "      <td>CREATE TABLE \"Player_Attributes\" (\\n\\t`id`\\tIN...</td>\n",
       "    </tr>\n",
       "    <tr>\n",
       "      <th>2</th>\n",
       "      <td>table</td>\n",
       "      <td>Player</td>\n",
       "      <td>Player</td>\n",
       "      <td>14</td>\n",
       "      <td>CREATE TABLE `Player` (\\n\\t`id`\\tINTEGER PRIMA...</td>\n",
       "    </tr>\n",
       "    <tr>\n",
       "      <th>3</th>\n",
       "      <td>table</td>\n",
       "      <td>Match</td>\n",
       "      <td>Match</td>\n",
       "      <td>18</td>\n",
       "      <td>CREATE TABLE `Match` (\\n\\t`id`\\tINTEGER PRIMAR...</td>\n",
       "    </tr>\n",
       "    <tr>\n",
       "      <th>4</th>\n",
       "      <td>table</td>\n",
       "      <td>League</td>\n",
       "      <td>League</td>\n",
       "      <td>24</td>\n",
       "      <td>CREATE TABLE `League` (\\n\\t`id`\\tINTEGER PRIMA...</td>\n",
       "    </tr>\n",
       "    <tr>\n",
       "      <th>5</th>\n",
       "      <td>table</td>\n",
       "      <td>Country</td>\n",
       "      <td>Country</td>\n",
       "      <td>26</td>\n",
       "      <td>CREATE TABLE `Country` (\\n\\t`id`\\tINTEGER PRIM...</td>\n",
       "    </tr>\n",
       "    <tr>\n",
       "      <th>6</th>\n",
       "      <td>table</td>\n",
       "      <td>Team</td>\n",
       "      <td>Team</td>\n",
       "      <td>29</td>\n",
       "      <td>CREATE TABLE \"Team\" (\\n\\t`id`\\tINTEGER PRIMARY...</td>\n",
       "    </tr>\n",
       "    <tr>\n",
       "      <th>7</th>\n",
       "      <td>table</td>\n",
       "      <td>Team_Attributes</td>\n",
       "      <td>Team_Attributes</td>\n",
       "      <td>2</td>\n",
       "      <td>CREATE TABLE `Team_Attributes` (\\n\\t`id`\\tINTE...</td>\n",
       "    </tr>\n",
       "  </tbody>\n",
       "</table>\n",
       "</div>"
      ],
      "text/plain": [
       "    type               name           tbl_name  rootpage  \\\n",
       "0  table    sqlite_sequence    sqlite_sequence         4   \n",
       "1  table  Player_Attributes  Player_Attributes        11   \n",
       "2  table             Player             Player        14   \n",
       "3  table              Match              Match        18   \n",
       "4  table             League             League        24   \n",
       "5  table            Country            Country        26   \n",
       "6  table               Team               Team        29   \n",
       "7  table    Team_Attributes    Team_Attributes         2   \n",
       "\n",
       "                                                 sql  \n",
       "0             CREATE TABLE sqlite_sequence(name,seq)  \n",
       "1  CREATE TABLE \"Player_Attributes\" (\\n\\t`id`\\tIN...  \n",
       "2  CREATE TABLE `Player` (\\n\\t`id`\\tINTEGER PRIMA...  \n",
       "3  CREATE TABLE `Match` (\\n\\t`id`\\tINTEGER PRIMAR...  \n",
       "4  CREATE TABLE `League` (\\n\\t`id`\\tINTEGER PRIMA...  \n",
       "5  CREATE TABLE `Country` (\\n\\t`id`\\tINTEGER PRIM...  \n",
       "6  CREATE TABLE \"Team\" (\\n\\t`id`\\tINTEGER PRIMARY...  \n",
       "7  CREATE TABLE `Team_Attributes` (\\n\\t`id`\\tINTE...  "
      ]
     },
     "execution_count": 8,
     "metadata": {},
     "output_type": "execute_result"
    }
   ],
   "source": [
    "# Check what tables we have\n",
    "tables = pd.read_sql(\"\"\"SELECT *\n",
    "                        FROM sqlite_master\n",
    "                        WHERE type='table';\"\"\", conn)\n",
    "tables"
   ]
  },
  {
   "cell_type": "code",
   "execution_count": null,
   "id": "520a28f4",
   "metadata": {},
   "outputs": [],
   "source": []
  }
 ],
 "metadata": {
  "kernelspec": {
   "display_name": "Python 3 (ipykernel)",
   "language": "python",
   "name": "python3"
  },
  "language_info": {
   "codemirror_mode": {
    "name": "ipython",
    "version": 3
   },
   "file_extension": ".py",
   "mimetype": "text/x-python",
   "name": "python",
   "nbconvert_exporter": "python",
   "pygments_lexer": "ipython3",
   "version": "3.9.12"
  }
 },
 "nbformat": 4,
 "nbformat_minor": 5
}
